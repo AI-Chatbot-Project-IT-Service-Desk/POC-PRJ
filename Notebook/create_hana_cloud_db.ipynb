{
 "cells": [
  {
   "cell_type": "markdown",
   "metadata": {},
   "source": [
    "### HANA Cloud 연결"
   ]
  },
  {
   "cell_type": "code",
   "execution_count": 1,
   "metadata": {},
   "outputs": [
    {
     "name": "stdout",
     "output_type": "stream",
     "text": [
      "2.2.0\n",
      "2.19.24022101\n"
     ]
    }
   ],
   "source": [
    "import pandas as pd\n",
    "import json\n",
    "import os\n",
    "import hana_ml\n",
    "from hana_ml import ConnectionContext\n",
    "\n",
    "print(pd.__version__)\n",
    "print(hana_ml.__version__)"
   ]
  },
  {
   "cell_type": "code",
   "execution_count": 17,
   "metadata": {},
   "outputs": [
    {
     "name": "stdout",
     "output_type": "stream",
     "text": [
      "4.00.000.00.1721126161 (fa/CE2024.14)\n",
      "TEON\n"
     ]
    }
   ],
   "source": [
    "with open(os.path.join(os.getcwd(), '../config/cesco-poc-hc-service-key.json')) as f:\n",
    "    hana_env_c = json.load(f)\n",
    "    port_c = hana_env_c['port']\n",
    "    user_c = hana_env_c['user']\n",
    "    host_c = hana_env_c['host']\n",
    "    pwd_c = hana_env_c['pwd']\n",
    "\n",
    "cc = ConnectionContext(address=host_c, port=port_c, user=user_c, password=pwd_c, encrypt=True)\n",
    "cursor = cc.connection.cursor()\n",
    "cursor.execute(\"\"\"SET SCHEMA TEON\"\"\")\n",
    "\n",
    "#Check hana_ml version\n",
    "print(cc.hana_version())\n",
    "#Check current schema\n",
    "print(cc.get_current_schema())"
   ]
  },
  {
   "cell_type": "markdown",
   "metadata": {},
   "source": [
    "### 📃CESCO_ProblemSolutions"
   ]
  },
  {
   "cell_type": "code",
   "execution_count": 19,
   "metadata": {},
   "outputs": [],
   "source": [
    "#CESCO_ProblemSolutions 생성\n",
    "#테이블 한글명: 문의 DB\n",
    "#테이블 설명: 기존 핼프데스크 OA 질의 응답 저장 및 문제 벡터값 저장\n",
    "#작성일: 2024-08-07\n",
    "\n",
    "cursor = cc.connection.cursor()\n",
    "\n",
    "sql_command = '''CREATE TABLE \"CESCO_ProblemSolutions\"(\n",
    "    \"ProblemID\" BIGINT PRIMARY KEY,\n",
    "    \"ProblemDescription\" NVARCHAR(1000),\n",
    "    \"ProblemCategory\" NVARCHAR(100),\n",
    "    \"ProblemKeyword\" NVARCHAR(100),\n",
    "    \"Solution\" NCLOB MEMORY THRESHOLD 0,\n",
    "    \"SolutionDoc\" NCLOB MEMORY THRESHOLD 0,\n",
    "    \"AdditionalInfo\" NCLOB MEMORY THRESHOLD 0,\n",
    "    \"VectorProblem\" REAL_VECTOR(1536),\n",
    "    \"CreateDate\" DATE,\n",
    "    \"UpdateDate\" DATE\n",
    ")\n",
    "'''\n",
    "\n",
    "cursor.execute(sql_command)\n",
    "cursor.close()\n"
   ]
  },
  {
   "cell_type": "markdown",
   "metadata": {},
   "source": [
    "### 📃CESCO_UnansweredQuestions"
   ]
  },
  {
   "cell_type": "code",
   "execution_count": 24,
   "metadata": {},
   "outputs": [],
   "source": [
    "#CESCO_UnansweredQuestions 생성\n",
    "#테이블 한글명: 미응답질문DB\n",
    "#테이블 설명: CESCO BOT이 답변하지 못한 사용자 질문을 담아 신규 질문 추가 여부 및 질문 분석 등에 활용한다.\n",
    "#작성일: 2024-08-07\n",
    "\n",
    "cursor = cc.connection.cursor()\n",
    "\n",
    "sql_command = '''CREATE TABLE \"CESCO_UnansweredQuestions\"(\n",
    "    \"QuestionID\" BIGINT PRIMARY KEY,\n",
    "    \"QuestionText\" NVARCHAR(1000),\n",
    "    \"Status\" NVARCHAR(100),\n",
    "    \"StatusUpdateDate\" DATE,\n",
    "    \"DownloadDate\" DATE,\n",
    "    \"CreateDate\" DATE\n",
    ")\n",
    "'''\n",
    "\n",
    "cursor.execute(sql_command)\n",
    "cursor.close()\n"
   ]
  },
  {
   "cell_type": "markdown",
   "metadata": {},
   "source": [
    "### 📃CESCO_FileNames"
   ]
  },
  {
   "cell_type": "code",
   "execution_count": 23,
   "metadata": {},
   "outputs": [],
   "source": [
    "#CESCO_ProblemSolutions 생성\n",
    "#테이블 한글명: 미응답질문DB\n",
    "#테이블 설명: CESCO BOT이 답변하지 못한 사용자 질문을 담아 신규 질문 추가 여부 및 질문 분석 등에 활용한다.\n",
    "#작성일: 2024-08-07\n",
    "\n",
    "cursor = cc.connection.cursor()\n",
    "\n",
    "sql_command = '''CREATE TABLE \"CESCO_FileNames\"(\n",
    "    \"CodeID\" BIGINT PRIMARY KEY,\n",
    "    \"Code\" NVARCHAR(500),\n",
    "    \"FileName\" NVARCHAR(500)\n",
    ")\n",
    "'''\n",
    "\n",
    "cursor.execute(sql_command)\n",
    "cursor.close()"
   ]
  },
  {
   "cell_type": "code",
   "execution_count": null,
   "metadata": {},
   "outputs": [],
   "source": []
  }
 ],
 "metadata": {
  "kernelspec": {
   "display_name": "myvenv",
   "language": "python",
   "name": "python3"
  },
  "language_info": {
   "codemirror_mode": {
    "name": "ipython",
    "version": 3
   },
   "file_extension": ".py",
   "mimetype": "text/x-python",
   "name": "python",
   "nbconvert_exporter": "python",
   "pygments_lexer": "ipython3",
   "version": "3.9.19"
  }
 },
 "nbformat": 4,
 "nbformat_minor": 2
}

{
 "cells": [
  {
   "cell_type": "code",
   "execution_count": 2,
   "metadata": {},
   "outputs": [
    {
     "name": "stdout",
     "output_type": "stream",
     "text": [
      "test_cesco/test3.pdf\n",
      "hcp-a8f3d857-56e7-4be2-a9d1-d558ccd5da72\n",
      "test_cesco/test3.pdf\n"
     ]
    }
   ],
   "source": [
    "import boto3\n",
    "import os\n",
    "import json \n",
    "# from object_store import ObjectStore\n",
    "import yaml\n",
    "\n",
    "s3_configure_path = '../config/cesco-poc-os-service-key-1.txt'\n",
    "\n",
    "with open(os.path.join(os.getcwd(), s3_configure_path)) as f:\n",
    "    os_env_c = json.load(f)\n",
    "    aws_access_key_id = os_env_c['access_key_id']\n",
    "    aws_secret_access_key = os_env_c['secret_access_key']\n",
    "    aws_region = os_env_c['region']\n",
    "    \n",
    "    ### Update path \n",
    "    aws_url = os.path.join('s3://', os_env_c['bucket'])\n",
    "    bucket_name = os_env_c['bucket']\n",
    "\n",
    "\n",
    "# Initialize the S3 client\n",
    "s3_client = boto3.client(\n",
    "    's3',\n",
    "    aws_access_key_id=aws_access_key_id,\n",
    "    aws_secret_access_key=aws_secret_access_key,\n",
    "    region_name=aws_region\n",
    ")\n",
    "\n",
    "pdf_file_key = 'test_cesco/test3.pdf'#store.get('test3.pdf') #'path/to/your-pdf-file.pdf'\n",
    "\n",
    "print(pdf_file_key)\n",
    "# Download the PDF file from the Object Store\n",
    "response = s3_client.get_object(Bucket=bucket_name, Key=pdf_file_key)\n",
    "pdf_data = response['Body'].read()\n",
    "\n",
    "print(bucket_name)\n",
    "print(pdf_file_key)\n",
    "# # Optionally, convert the PDF to base64 (for embedding in YAML or other files)\n",
    "# base64_pdf = base64.b64encode(pdf_data).decode('utf-8')\n",
    "\n",
    "# print(base64_pdf)"
   ]
  },
  {
   "cell_type": "code",
   "execution_count": 1,
   "metadata": {},
   "outputs": [
    {
     "ename": "NameError",
     "evalue": "name 's3_client' is not defined",
     "output_type": "error",
     "traceback": [
      "\u001b[1;31m---------------------------------------------------------------------------\u001b[0m",
      "\u001b[1;31mNameError\u001b[0m                                 Traceback (most recent call last)",
      "Cell \u001b[1;32mIn[1], line 6\u001b[0m\n\u001b[0;32m      3\u001b[0m s3 \u001b[38;5;241m=\u001b[39m boto3\u001b[38;5;241m.\u001b[39mclient(\u001b[38;5;124m'\u001b[39m\u001b[38;5;124ms3\u001b[39m\u001b[38;5;124m'\u001b[39m)\n\u001b[0;32m      5\u001b[0m \u001b[38;5;66;03m# List all objects in the bucket\u001b[39;00m\n\u001b[1;32m----> 6\u001b[0m response \u001b[38;5;241m=\u001b[39m \u001b[43ms3_client\u001b[49m\u001b[38;5;241m.\u001b[39mlist_objects_v2(Bucket\u001b[38;5;241m=\u001b[39mbucket_name)\n\u001b[0;32m      8\u001b[0m \u001b[38;5;28;01mfor\u001b[39;00m obj \u001b[38;5;129;01min\u001b[39;00m response\u001b[38;5;241m.\u001b[39mget(\u001b[38;5;124m'\u001b[39m\u001b[38;5;124mContents\u001b[39m\u001b[38;5;124m'\u001b[39m, []):\n\u001b[0;32m      9\u001b[0m     \u001b[38;5;28mprint\u001b[39m(obj[\u001b[38;5;124m'\u001b[39m\u001b[38;5;124mKey\u001b[39m\u001b[38;5;124m'\u001b[39m])\n",
      "\u001b[1;31mNameError\u001b[0m: name 's3_client' is not defined"
     ]
    }
   ],
   "source": [
    "import boto3\n",
    "\n",
    "s3 = boto3.client('s3')\n",
    "\n",
    "# List all objects in the bucket\n",
    "response = s3_client.list_objects_v2(Bucket=bucket_name)\n",
    "\n",
    "for obj in response.get('Contents', []):\n",
    "    print(obj['Key'])\n",
    "    head_response = s3_client.head_object(Bucket=bucket_name, Key=pdf_file_key)\n",
    "    print(f\"Key: {pdf_file_key}, Content-Type: {head_response['ContentType']}\")\n"
   ]
  },
  {
   "cell_type": "code",
   "execution_count": 78,
   "metadata": {},
   "outputs": [
    {
     "name": "stdout",
     "output_type": "stream",
     "text": [
      "hcp-a8f3d857-56e7-4be2-a9d1-d558ccd5da72\n"
     ]
    }
   ],
   "source": [
    "print(bucket_name)"
   ]
  },
  {
   "cell_type": "code",
   "execution_count": 3,
   "metadata": {},
   "outputs": [
    {
     "name": "stdout",
     "output_type": "stream",
     "text": [
      "Content-Type: application/pdf\n",
      "Content-Disposition: inline\n"
     ]
    }
   ],
   "source": [
    "response = s3_client.head_object(Bucket='hcp-a8f3d857-56e7-4be2-a9d1-d558ccd5da72', Key='cesco_division_file/cesco13_0.pdf')\n",
    "\n",
    "# 메타데이터 출력\n",
    "print(\"Content-Type:\", response.get('ContentType', 'Not Set'))\n",
    "print(\"Content-Disposition:\", response.get('ContentDisposition', 'Not Set'))"
   ]
  },
  {
   "cell_type": "code",
   "execution_count": null,
   "metadata": {},
   "outputs": [],
   "source": [
    "try:\n",
    "    \n",
    "    s3_client.upload_fileobj(\n",
    "    uploaded_file,\n",
    "    bucket_name,\n",
    "    f\"{aws_pdf_path}/{filecode}.pdf\",\n",
    "        ExtraArgs={\n",
    "            'ContentType': 'application/pdf',\n",
    "            'ContentDisposition': 'inline',\n",
    "            'ACL': 'public-read'\n",
    "        }\n",
    "    )\n",
    "#print(f\"[SUCCESS] {filecode}.pdf를 S3 버킷에 업로드하였습니다.\")\n",
    "except ClientError as e:\n",
    "    print(f\"파일을 업로드 하는 도중 에러가 발생하였습니다.: {e}\")"
   ]
  },
  {
   "cell_type": "code",
   "execution_count": 3,
   "metadata": {},
   "outputs": [
    {
     "name": "stderr",
     "output_type": "stream",
     "text": [
      "<>:1: SyntaxWarning: invalid escape sequence '\\w'\n",
      "<>:1: SyntaxWarning: invalid escape sequence '\\w'\n",
      "C:\\Users\\CESCO\\AppData\\Local\\Temp\\ipykernel_73368\\2696838638.py:1: SyntaxWarning: invalid escape sequence '\\w'\n",
      "  with open('E:\\workspace-ai\\POC-PRJ\\sidebar_image.png', 'rb') as image_file:\n"
     ]
    },
    {
     "ename": "SyntaxError",
     "evalue": "invalid syntax (2696838638.py, line 9)",
     "output_type": "error",
     "traceback": [
      "\u001b[1;36m  Cell \u001b[1;32mIn[3], line 9\u001b[1;36m\u001b[0m\n\u001b[1;33m    'ACL': 'public-read'\u001b[0m\n\u001b[1;37m         ^\u001b[0m\n\u001b[1;31mSyntaxError\u001b[0m\u001b[1;31m:\u001b[0m invalid syntax\n"
     ]
    }
   ],
   "source": [
    "with open('E:\\workspace-ai\\POC-PRJ\\sidebar_image.png', 'rb') as image_file:\n",
    "    s3_client.upload_fileobj(\n",
    "        image_file,\n",
    "        bucket_name,\n",
    "        \"resources/sidebar_image.png\",\n",
    "        ExtraArgs={\n",
    "            'ContentType': 'image/png',\n",
    "            'ContentDisposition': 'inline',\n",
    "            'ACL': 'public-read'}\n",
    "    )"
   ]
  },
  {
   "cell_type": "code",
   "execution_count": null,
   "metadata": {},
   "outputs": [],
   "source": [
    "# https://hcp-a8f3d857-56e7-4be2-a9d1-d558ccd5da72.s3-ap-northeast-1.amazonaws.com/test_cesco/test3.pdf\n",
    "\n",
    "# https://hcp-a8f3d857-56e7-4be2-a9d1-d558ccd5da72.s3-ap-northeast-1.amazonaws.com/cesco_division_file/cesco13_0.pdf\n",
    "\n",
    "# https://<bucket-name>.s3.<region>.amazonaws.com/<object-key>\n",
    "# https://my-bucket.s3.eu-west-1.amazonaws.com/my-folder/my-file.pdf\n"
   ]
  }
 ],
 "metadata": {
  "kernelspec": {
   "display_name": "genaihub-env1",
   "language": "python",
   "name": "python3"
  },
  "language_info": {
   "codemirror_mode": {
    "name": "ipython",
    "version": 3
   },
   "file_extension": ".py",
   "mimetype": "text/x-python",
   "name": "python",
   "nbconvert_exporter": "python",
   "pygments_lexer": "ipython3",
   "version": "3.12.4"
  }
 },
 "nbformat": 4,
 "nbformat_minor": 2
}

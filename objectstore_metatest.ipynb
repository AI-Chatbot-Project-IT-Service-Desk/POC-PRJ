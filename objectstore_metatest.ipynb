{
 "cells": [
  {
   "cell_type": "code",
   "execution_count": 76,
   "metadata": {},
   "outputs": [
    {
     "name": "stdout",
     "output_type": "stream",
     "text": [
      "test_cesco/test3.pdf\n",
      "hcp-a8f3d857-56e7-4be2-a9d1-d558ccd5da72\n",
      "test_cesco/test3.pdf\n"
     ]
    }
   ],
   "source": [
    "import boto3\n",
    "import base64\n",
    "import os\n",
    "import json \n",
    "# from object_store import ObjectStore\n",
    "import yaml\n",
    "\n",
    "s3_configure_path = './config/s3-service-key-cesco1-interim.txt'\n",
    "\n",
    "with open(os.path.join(os.getcwd(), s3_configure_path)) as f:\n",
    "    os_env_c = json.load(f)\n",
    "    aws_access_key_id = os_env_c['access_key_id']\n",
    "    aws_secret_access_key = os_env_c['secret_access_key']\n",
    "    aws_region = os_env_c['region']\n",
    "    \n",
    "    ### Update path \n",
    "    aws_url = os.path.join('s3://', os_env_c['bucket'])\n",
    "    bucket_name = os_env_c['bucket']\n",
    "\n",
    "\n",
    "# Initialize the S3 client\n",
    "s3_client = boto3.client(\n",
    "    's3',\n",
    "    aws_access_key_id=aws_access_key_id,\n",
    "    aws_secret_access_key=aws_secret_access_key,\n",
    "    region_name=aws_region\n",
    ")\n",
    "\n",
    "pdf_file_key = 'test_cesco/test3.pdf'#store.get('test3.pdf') #'path/to/your-pdf-file.pdf'\n",
    "\n",
    "print(pdf_file_key)\n",
    "# Download the PDF file from the Object Store\n",
    "response = s3_client.get_object(Bucket=bucket_name, Key=pdf_file_key)\n",
    "pdf_data = response['Body'].read()\n",
    "\n",
    "print(bucket_name)\n",
    "print(pdf_file_key)\n",
    "# # Optionally, convert the PDF to base64 (for embedding in YAML or other files)\n",
    "# base64_pdf = base64.b64encode(pdf_data).decode('utf-8')\n",
    "\n",
    "# print(base64_pdf)"
   ]
  },
  {
   "cell_type": "code",
   "execution_count": 77,
   "metadata": {},
   "outputs": [],
   "source": [
    "import boto3\n",
    "\n",
    "s3 = boto3.client('s3')\n",
    "\n",
    "# List all objects in the bucket\n",
    "response = s3_client.list_objects_v2(Bucket=bucket_name)\n",
    "\n",
    "# for obj in response.get('Contents', []):\n",
    "#     print(obj['Key'])\n",
    "#     head_response = s3_client.head_object(Bucket=bucket_name, Key=pdf_file_key)\n",
    "#     print(f\"Key: {pdf_file_key}, Content-Type: {head_response['ContentType']}\")\n",
    "\n"
   ]
  },
  {
   "cell_type": "code",
   "execution_count": 78,
   "metadata": {},
   "outputs": [
    {
     "name": "stdout",
     "output_type": "stream",
     "text": [
      "hcp-a8f3d857-56e7-4be2-a9d1-d558ccd5da72\n"
     ]
    }
   ],
   "source": [
    "print(bucket_name)"
   ]
  },
  {
   "cell_type": "code",
   "execution_count": 86,
   "metadata": {},
   "outputs": [
    {
     "ename": "NameError",
     "evalue": "name 'Config' is not defined",
     "output_type": "error",
     "traceback": [
      "\u001b[1;31m---------------------------------------------------------------------------\u001b[0m",
      "\u001b[1;31mNameError\u001b[0m                                 Traceback (most recent call last)",
      "Cell \u001b[1;32mIn[86], line 9\u001b[0m\n\u001b[0;32m      1\u001b[0m \u001b[38;5;28;01mimport\u001b[39;00m \u001b[38;5;21;01mboto3\u001b[39;00m\n\u001b[0;32m      2\u001b[0m \u001b[38;5;28;01mfrom\u001b[39;00m \u001b[38;5;21;01mbotocore\u001b[39;00m\u001b[38;5;21;01m.\u001b[39;00m\u001b[38;5;21;01mexceptions\u001b[39;00m \u001b[38;5;28;01mimport\u001b[39;00m ClientError\n\u001b[0;32m      4\u001b[0m s3_client \u001b[38;5;241m=\u001b[39m boto3\u001b[38;5;241m.\u001b[39mclient(\n\u001b[0;32m      5\u001b[0m     \u001b[38;5;124m'\u001b[39m\u001b[38;5;124ms3\u001b[39m\u001b[38;5;124m'\u001b[39m,\n\u001b[0;32m      6\u001b[0m     aws_access_key_id\u001b[38;5;241m=\u001b[39maws_access_key_id,\n\u001b[0;32m      7\u001b[0m     aws_secret_access_key\u001b[38;5;241m=\u001b[39maws_secret_access_key,\n\u001b[0;32m      8\u001b[0m     region_name\u001b[38;5;241m=\u001b[39maws_region,\n\u001b[1;32m----> 9\u001b[0m     config\u001b[38;5;241m=\u001b[39m\u001b[43mConfig\u001b[49m(signature_version\u001b[38;5;241m=\u001b[39m\u001b[38;5;124m'\u001b[39m\u001b[38;5;124ms3v4\u001b[39m\u001b[38;5;124m'\u001b[39m)\n\u001b[0;32m     10\u001b[0m )\n\u001b[0;32m     12\u001b[0m \u001b[38;5;66;03m# 버킷하고 키 설정\u001b[39;00m\n\u001b[0;32m     13\u001b[0m bucket_name \u001b[38;5;241m=\u001b[39m \u001b[38;5;124m'\u001b[39m\u001b[38;5;124mhcp-a8f3d857-56e7-4be2-a9d1-d558ccd5da72\u001b[39m\u001b[38;5;124m'\u001b[39m\n",
      "\u001b[1;31mNameError\u001b[0m: name 'Config' is not defined"
     ]
    }
   ],
   "source": [
    "import boto3\n",
    "from botocore.exceptions import ClientError\n",
    "from botocore.client import Config\n",
    "\n",
    "\n",
    "s3_client = boto3.client(\n",
    "    's3',\n",
    "    aws_access_key_id=aws_access_key_id,\n",
    "    aws_secret_access_key=aws_secret_access_key,\n",
    "    region_name=aws_region,\n",
    "    config=Config(signature_version='s3v4')\n",
    ")\n",
    "\n",
    "# 버킷하고 키 설정\n",
    "bucket_name = 'hcp-a8f3d857-56e7-4be2-a9d1-d558ccd5da72'\n",
    "source_key = 'test_cesco/test3.pdf'  # 원본 객체 키\n",
    "destination_key = 'test_cesco/test3_metacopy.pdf'  # 복사 후 객체의 키\n",
    "\n",
    "try:\n",
    "    # 원본 객체 메타데이터 가져오기\n",
    "    head_response = s3_client.head_object(Bucket=bucket_name, Key=source_key)\n",
    "    \n",
    "    # 기존 메타데이터 복사\n",
    "    metadata = head_response['Metadata']\n",
    "    content_type = head_response.get('ContentType', 'binary/octet-stream')  # 기존 Content-Type 유지\n",
    "    \n",
    "    # 새로운 Content-Type 및 Content-Disposition 설정\n",
    "    metadata.update({'Content-Type': 'application/pdf'})  # PDF로 강제 설정\n",
    "    \n",
    "    # 원본 객체 복사 및 메타데이터 수정\n",
    "    s3_client.copy_object(\n",
    "        Bucket=bucket_name,\n",
    "        CopySource={'Bucket': bucket_name, 'Key': source_key},\n",
    "        Key=destination_key,\n",
    "        MetadataDirective='REPLACE',  # 메타데이터 덮어쓰기\n",
    "        Metadata=metadata,  # 수정된 메타데이터 적용\n",
    "        ContentType='application/pdf',  # 브라우저에서 열리게 하기 위한 타입 변경\n",
    "        ContentDisposition='inline',  # 브라우저에서 열리게 하기 위한 타입 변경\n",
    "        ACL='public-read'  # 퍼블릭 액세스 설정\n",
    "    )\n",
    "    \n",
    "    print(f\"객체 {source_key}가 {destination_key}로 성공적으로 복제되었습니다.\")\n",
    "\n",
    "except ClientError as e:\n",
    "    print(f\"Error: {e}\")"
   ]
  },
  {
   "cell_type": "code",
   "execution_count": 84,
   "metadata": {},
   "outputs": [
    {
     "name": "stdout",
     "output_type": "stream",
     "text": [
      "Content-Type: binary/octet-stream\n",
      "Content-Disposition: Not Set\n"
     ]
    }
   ],
   "source": [
    "response_head_updated = s3_client.head_object(Bucket='hcp-a8f3d857-56e7-4be2-a9d1-d558ccd5da72', Key='test_cesco/test3_metacopy1.pdf')\n",
    "\n",
    "# 메타데이터 출력\n",
    "print(\"Content-Type:\", response_head_updated.get('ContentType', 'Not Set'))\n",
    "print(\"Content-Disposition:\", response_head_updated.get('ContentDisposition', 'Not Set'))"
   ]
  },
  {
   "cell_type": "code",
   "execution_count": 60,
   "metadata": {},
   "outputs": [
    {
     "ename": "ClientError",
     "evalue": "An error occurred (SignatureDoesNotMatch) when calling the CopyObject operation: The request signature we calculated does not match the signature you provided. Check your key and signing method.",
     "output_type": "error",
     "traceback": [
      "\u001b[1;31m---------------------------------------------------------------------------\u001b[0m",
      "\u001b[1;31mClientError\u001b[0m                               Traceback (most recent call last)",
      "Cell \u001b[1;32mIn[60], line 45\u001b[0m\n\u001b[0;32m     39\u001b[0m new_metadata\u001b[38;5;241m.\u001b[39mupdate({\n\u001b[0;32m     40\u001b[0m     \u001b[38;5;124m'\u001b[39m\u001b[38;5;124mContent-Type\u001b[39m\u001b[38;5;124m'\u001b[39m: \u001b[38;5;124m'\u001b[39m\u001b[38;5;124mapplication/pdf\u001b[39m\u001b[38;5;124m'\u001b[39m,\n\u001b[0;32m     41\u001b[0m     \u001b[38;5;124m'\u001b[39m\u001b[38;5;124mContent-Disposition\u001b[39m\u001b[38;5;124m'\u001b[39m: \u001b[38;5;124m'\u001b[39m\u001b[38;5;124minline\u001b[39m\u001b[38;5;124m'\u001b[39m  \u001b[38;5;66;03m# 브라우저에서 PDF 파일을 바로 열도록 설정\u001b[39;00m\n\u001b[0;32m     42\u001b[0m })\n\u001b[0;32m     44\u001b[0m \u001b[38;5;66;03m# 객체를 복사하면서 메타데이터 덮어쓰기\u001b[39;00m\n\u001b[1;32m---> 45\u001b[0m response_copy \u001b[38;5;241m=\u001b[39m \u001b[43ms3_client\u001b[49m\u001b[38;5;241;43m.\u001b[39;49m\u001b[43mcopy_object\u001b[49m\u001b[43m(\u001b[49m\n\u001b[0;32m     46\u001b[0m \u001b[43m    \u001b[49m\u001b[43mBucket\u001b[49m\u001b[38;5;241;43m=\u001b[39;49m\u001b[38;5;124;43m'\u001b[39;49m\u001b[38;5;124;43mhcp-a8f3d857-56e7-4be2-a9d1-d558ccd5da72\u001b[39;49m\u001b[38;5;124;43m'\u001b[39;49m\u001b[43m,\u001b[49m\n\u001b[0;32m     47\u001b[0m \u001b[43m    \u001b[49m\u001b[43mCopySource\u001b[49m\u001b[38;5;241;43m=\u001b[39;49m\u001b[43m{\u001b[49m\u001b[38;5;124;43m'\u001b[39;49m\u001b[38;5;124;43mBucket\u001b[39;49m\u001b[38;5;124;43m'\u001b[39;49m\u001b[43m:\u001b[49m\u001b[43m \u001b[49m\u001b[38;5;124;43m'\u001b[39;49m\u001b[38;5;124;43mhcp-a8f3d857-56e7-4be2-a9d1-d558ccd5da72\u001b[39;49m\u001b[38;5;124;43m'\u001b[39;49m\u001b[43m,\u001b[49m\u001b[43m \u001b[49m\u001b[38;5;124;43m'\u001b[39;49m\u001b[38;5;124;43mKey\u001b[39;49m\u001b[38;5;124;43m'\u001b[39;49m\u001b[43m:\u001b[49m\u001b[43m \u001b[49m\u001b[38;5;124;43m'\u001b[39;49m\u001b[38;5;124;43mtest_cesco/test2.pdf\u001b[39;49m\u001b[38;5;124;43m'\u001b[39;49m\u001b[43m}\u001b[49m\u001b[43m,\u001b[49m\n\u001b[0;32m     48\u001b[0m \u001b[43m    \u001b[49m\u001b[43mKey\u001b[49m\u001b[38;5;241;43m=\u001b[39;49m\u001b[38;5;124;43m'\u001b[39;49m\u001b[38;5;124;43mtest_cesco/test2.pdf\u001b[39;49m\u001b[38;5;124;43m'\u001b[39;49m\u001b[43m,\u001b[49m\n\u001b[0;32m     49\u001b[0m \u001b[43m    \u001b[49m\u001b[43mMetadataDirective\u001b[49m\u001b[38;5;241;43m=\u001b[39;49m\u001b[38;5;124;43m'\u001b[39;49m\u001b[38;5;124;43mREPLACE\u001b[39;49m\u001b[38;5;124;43m'\u001b[39;49m\u001b[43m,\u001b[49m\u001b[43m  \u001b[49m\u001b[38;5;66;43;03m# 메타데이터 교체\u001b[39;49;00m\n\u001b[0;32m     50\u001b[0m \u001b[43m    \u001b[49m\u001b[43mMetadata\u001b[49m\u001b[38;5;241;43m=\u001b[39;49m\u001b[43mnew_metadata\u001b[49m\u001b[43m  \u001b[49m\u001b[38;5;66;43;03m# 새 메타데이터\u001b[39;49;00m\n\u001b[0;32m     51\u001b[0m \u001b[43m)\u001b[49m\n\u001b[0;32m     53\u001b[0m response_acl \u001b[38;5;241m=\u001b[39m s3_client\u001b[38;5;241m.\u001b[39mput_object_acl(\n\u001b[0;32m     54\u001b[0m     Bucket\u001b[38;5;241m=\u001b[39m\u001b[38;5;124m'\u001b[39m\u001b[38;5;124mhcp-a8f3d857-56e7-4be2-a9d1-d558ccd5da72\u001b[39m\u001b[38;5;124m'\u001b[39m,\n\u001b[0;32m     55\u001b[0m     Key\u001b[38;5;241m=\u001b[39m\u001b[38;5;124m'\u001b[39m\u001b[38;5;124mtest_cesco/test2.pdf\u001b[39m\u001b[38;5;124m'\u001b[39m,\n\u001b[0;32m     56\u001b[0m     ACL\u001b[38;5;241m=\u001b[39m\u001b[38;5;124m'\u001b[39m\u001b[38;5;124mpublic-read\u001b[39m\u001b[38;5;124m'\u001b[39m  \u001b[38;5;66;03m# 퍼블릭 액세스 설정\u001b[39;00m\n\u001b[0;32m     57\u001b[0m )\n\u001b[0;32m     59\u001b[0m \u001b[38;5;66;03m# 복사 후 메타데이터 확인\u001b[39;00m\n",
      "File \u001b[1;32mc:\\Users\\cesco\\anaconda3\\envs\\btp-env\\Lib\\site-packages\\botocore\\client.py:569\u001b[0m, in \u001b[0;36mClientCreator._create_api_method.<locals>._api_call\u001b[1;34m(self, *args, **kwargs)\u001b[0m\n\u001b[0;32m    565\u001b[0m     \u001b[38;5;28;01mraise\u001b[39;00m \u001b[38;5;167;01mTypeError\u001b[39;00m(\n\u001b[0;32m    566\u001b[0m         \u001b[38;5;124mf\u001b[39m\u001b[38;5;124m\"\u001b[39m\u001b[38;5;132;01m{\u001b[39;00mpy_operation_name\u001b[38;5;132;01m}\u001b[39;00m\u001b[38;5;124m() only accepts keyword arguments.\u001b[39m\u001b[38;5;124m\"\u001b[39m\n\u001b[0;32m    567\u001b[0m     )\n\u001b[0;32m    568\u001b[0m \u001b[38;5;66;03m# The \"self\" in this scope is referring to the BaseClient.\u001b[39;00m\n\u001b[1;32m--> 569\u001b[0m \u001b[38;5;28;01mreturn\u001b[39;00m \u001b[38;5;28;43mself\u001b[39;49m\u001b[38;5;241;43m.\u001b[39;49m\u001b[43m_make_api_call\u001b[49m\u001b[43m(\u001b[49m\u001b[43moperation_name\u001b[49m\u001b[43m,\u001b[49m\u001b[43m \u001b[49m\u001b[43mkwargs\u001b[49m\u001b[43m)\u001b[49m\n",
      "File \u001b[1;32mc:\\Users\\cesco\\anaconda3\\envs\\btp-env\\Lib\\site-packages\\botocore\\client.py:1023\u001b[0m, in \u001b[0;36mBaseClient._make_api_call\u001b[1;34m(self, operation_name, api_params)\u001b[0m\n\u001b[0;32m   1019\u001b[0m     error_code \u001b[38;5;241m=\u001b[39m error_info\u001b[38;5;241m.\u001b[39mget(\u001b[38;5;124m\"\u001b[39m\u001b[38;5;124mQueryErrorCode\u001b[39m\u001b[38;5;124m\"\u001b[39m) \u001b[38;5;129;01mor\u001b[39;00m error_info\u001b[38;5;241m.\u001b[39mget(\n\u001b[0;32m   1020\u001b[0m         \u001b[38;5;124m\"\u001b[39m\u001b[38;5;124mCode\u001b[39m\u001b[38;5;124m\"\u001b[39m\n\u001b[0;32m   1021\u001b[0m     )\n\u001b[0;32m   1022\u001b[0m     error_class \u001b[38;5;241m=\u001b[39m \u001b[38;5;28mself\u001b[39m\u001b[38;5;241m.\u001b[39mexceptions\u001b[38;5;241m.\u001b[39mfrom_code(error_code)\n\u001b[1;32m-> 1023\u001b[0m     \u001b[38;5;28;01mraise\u001b[39;00m error_class(parsed_response, operation_name)\n\u001b[0;32m   1024\u001b[0m \u001b[38;5;28;01melse\u001b[39;00m:\n\u001b[0;32m   1025\u001b[0m     \u001b[38;5;28;01mreturn\u001b[39;00m parsed_response\n",
      "\u001b[1;31mClientError\u001b[0m: An error occurred (SignatureDoesNotMatch) when calling the CopyObject operation: The request signature we calculated does not match the signature you provided. Check your key and signing method."
     ]
    }
   ],
   "source": [
    "import boto3\n",
    "import base64\n",
    "import os\n",
    "import json \n",
    "# from object_store import ObjectStore\n",
    "import yaml\n",
    "\n",
    "s3_configure_path = './config/s3-service-key-cesco1-interim.txt'\n",
    "\n",
    "with open(os.path.join(os.getcwd(), s3_configure_path)) as f:\n",
    "    os_env_c = json.load(f)\n",
    "    aws_access_key_id = os_env_c['access_key_id']\n",
    "    aws_secret_access_key = os_env_c['secret_access_key']\n",
    "    aws_region = os_env_c['region']\n",
    "    \n",
    "    ### Update path \n",
    "    aws_url = os.path.join('s3://', os_env_c['bucket'])\n",
    "    bucket_name = os_env_c['bucket']\n",
    "\n",
    "\n",
    "# Initialize the S3 client\n",
    "s3_client = boto3.client(\n",
    "    's3',\n",
    "    aws_access_key_id=aws_access_key_id,\n",
    "    aws_secret_access_key=aws_secret_access_key,\n",
    "    region_name=aws_region\n",
    ")\n",
    "\n",
    "# s3_client = boto3.client('s3')\n",
    "\n",
    "# 기존 객체의 메타데이터 조회\n",
    "response_head = s3_client.head_object(Bucket='hcp-a8f3d857-56e7-4be2-a9d1-d558ccd5da72', Key='test_cesco/test2.pdf')\n",
    "\n",
    "# 기존 메타데이터 가져오기\n",
    "existing_metadata = response_head.get('Metadata', {})\n",
    "\n",
    "# 메타데이터 복사 및 추가할 값 설정\n",
    "new_metadata = existing_metadata.copy()\n",
    "new_metadata.update({\n",
    "    'Content-Type': 'application/pdf',\n",
    "    'Content-Disposition': 'inline'  # 브라우저에서 PDF 파일을 바로 열도록 설정\n",
    "})\n",
    "\n",
    "# 객체를 복사하면서 메타데이터 덮어쓰기\n",
    "response_copy = s3_client.copy_object(\n",
    "    Bucket='hcp-a8f3d857-56e7-4be2-a9d1-d558ccd5da72',\n",
    "    CopySource={'Bucket': 'hcp-a8f3d857-56e7-4be2-a9d1-d558ccd5da72', 'Key': 'test_cesco/test2.pdf'},\n",
    "    Key='test_cesco/test2.pdf',\n",
    "    MetadataDirective='REPLACE',  # 메타데이터 교체\n",
    "    Metadata=new_metadata  # 새 메타데이터\n",
    ")\n",
    "\n",
    "response_acl = s3_client.put_object_acl(\n",
    "    Bucket='hcp-a8f3d857-56e7-4be2-a9d1-d558ccd5da72',\n",
    "    Key='test_cesco/test2.pdf',\n",
    "    ACL='public-read'  # 퍼블릭 액세스 설정\n",
    ")\n",
    "\n",
    "# 복사 후 메타데이터 확인\n",
    "response_head_updated = s3_client.head_object(Bucket='hcp-a8f3d857-56e7-4be2-a9d1-d558ccd5da72', Key='test_cesco/test2.pdf')\n",
    "\n",
    "# 메타데이터 출력\n",
    "print(\"Content-Type:\", response_head_updated.get('ContentType', 'Not Set'))\n",
    "print(\"Content-Disposition:\", response_head_updated.get('ContentDisposition', 'Not Set'))"
   ]
  },
  {
   "cell_type": "code",
   "execution_count": 82,
   "metadata": {},
   "outputs": [
    {
     "name": "stdout",
     "output_type": "stream",
     "text": [
      "Content-Type: binary/octet-stream\n",
      "Content-Disposition: Not Set\n"
     ]
    }
   ],
   "source": [
    "import boto3\n",
    "\n",
    "# s3 = boto3.client('s3')\n",
    "\n",
    "response_copy = s3_client.copy_object(\n",
    "    Bucket='hcp-a8f3d857-56e7-4be2-a9d1-d558ccd5da72',\n",
    "    CopySource={'Bucket': 'hcp-a8f3d857-56e7-4be2-a9d1-d558ccd5da72', 'Key': 'test_cesco/test2.pdf'},\n",
    "    Key='test_cesco/test2.pdf',\n",
    "    MetadataDirective='REPLACE',  # 메타데이터 대체\n",
    "    Metadata={\n",
    "        'Content-Type': 'application/pdf',\n",
    "        'Content-Disposition': 'inline'  # PDF를 브라우저에서 직접 보기 위해 설정\n",
    "    }\n",
    ")\n",
    "\n",
    "response_acl = s3_client.put_object_acl(\n",
    "    Bucket='hcp-a8f3d857-56e7-4be2-a9d1-d558ccd5da72',\n",
    "    Key='test_cesco/test2.pdf',\n",
    "    ACL='public-read'  # 퍼블릭 액세스 설정\n",
    ")\n",
    "\n",
    "# S3 객체의 메타데이터 확인\n",
    "response_head = s3_client.head_object(Bucket='hcp-a8f3d857-56e7-4be2-a9d1-d558ccd5da72', Key='test_cesco/test3_metacopy.pdf')\n",
    "\n",
    "# 메타데이터 출력\n",
    "print(\"Content-Type:\", response_head.get('ContentType', 'Not Set'))\n",
    "print(\"Content-Disposition:\", response_head.get('ContentDisposition', 'Not Set'))\n",
    "\n",
    "\n",
    "# https://hcp-a8f3d857-56e7-4be2-a9d1-d558ccd5da72.s3-ap-northeast-1.amazonaws.com/test_cesco/test2.pdf\n",
    "\n",
    "# print(response_acl)\n",
    "\n",
    "\n",
    "# response = s3_client.put_object_acl(\n",
    "#     Bucket='hcp-a8f3d857-56e7-4be2-a9d1-d558ccd5da72',\n",
    "#     Key='cesco_division_file/cesco2_0.pdf',\n",
    "#     MetadataDirective='REPLACE',  # 기존 메타데이터를 대체\n",
    "#     ContentType='application/pdf',\n",
    "#     ACL='public-read'\n",
    "# )"
   ]
  },
  {
   "cell_type": "code",
   "execution_count": null,
   "metadata": {},
   "outputs": [],
   "source": [
    "response = s3_client.head_object(Bucket='hcp-a8f3d857-56e7-4be2-a9d1-d558ccd5da72', Key='test_cesco/test3.pdf')\n",
    "\n",
    "# 메타데이터 출력\n",
    "print(\"Content-Type:\", response.get('ContentType', 'Not Set'))\n",
    "print(\"Content-Disposition:\", response.get('ContentDisposition', 'Not Set'))"
   ]
  },
  {
   "cell_type": "code",
   "execution_count": null,
   "metadata": {},
   "outputs": [],
   "source": [
    "# https://hcp-a8f3d857-56e7-4be2-a9d1-d558ccd5da72.s3-ap-northeast-1.amazonaws.com/test_cesco/test3.pdf\n",
    "\n",
    "# https://<bucket-name>.s3.<region>.amazonaws.com/<object-key>\n",
    "# https://my-bucket.s3.eu-west-1.amazonaws.com/my-folder/my-file.pdf\n"
   ]
  }
 ],
 "metadata": {
  "kernelspec": {
   "display_name": "genaihub-env1",
   "language": "python",
   "name": "python3"
  },
  "language_info": {
   "codemirror_mode": {
    "name": "ipython",
    "version": 3
   },
   "file_extension": ".py",
   "mimetype": "text/x-python",
   "name": "python",
   "nbconvert_exporter": "python",
   "pygments_lexer": "ipython3",
   "version": "3.12.4"
  }
 },
 "nbformat": 4,
 "nbformat_minor": 2
}
